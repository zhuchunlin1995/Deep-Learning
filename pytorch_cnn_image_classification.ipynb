{
  "nbformat": 4,
  "nbformat_minor": 0,
  "metadata": {
    "colab": {
      "name": "pytorch_cnn_image_classification.ipynb",
      "version": "0.3.2",
      "provenance": [],
      "collapsed_sections": [],
      "include_colab_link": true
    },
    "kernelspec": {
      "name": "python3",
      "display_name": "Python 3"
    },
    "accelerator": "GPU"
  },
  "cells": [
    {
      "cell_type": "markdown",
      "metadata": {
        "id": "view-in-github",
        "colab_type": "text"
      },
      "source": [
        "<a href=\"https://colab.research.google.com/github/zhuchunlin1995/Deep-Learning/blob/master/pytorch_cnn_image_classification.ipynb\" target=\"_parent\"><img src=\"https://colab.research.google.com/assets/colab-badge.svg\" alt=\"Open In Colab\"/></a>"
      ]
    },
    {
      "metadata": {
        "id": "DagMSSwoIZ5B",
        "colab_type": "code",
        "colab": {}
      },
      "cell_type": "code",
      "source": [
        "# This part uses Google Colab and the link is:\n",
        "# https://colab.research.google.com/drive/1NSgEyUrCFoxeN6BUZT7RZws6gJW1957p\n",
        "\n",
        "import numpy as np\n",
        "import torch\n",
        "import torch.nn as nn\n",
        "import torch.nn.functional as F\n",
        "import torch.optim as optim\n",
        "import torchvision\n",
        "import torchvision.transforms as transforms"
      ],
      "execution_count": 0,
      "outputs": []
    },
    {
      "metadata": {
        "id": "ZM4A1Qb7cTjG",
        "colab_type": "code",
        "outputId": "28263daa-8759-4b62-b5cd-8e6286fd0ab0",
        "colab": {
          "base_uri": "https://localhost:8080/",
          "height": 51
        }
      },
      "cell_type": "code",
      "source": [
        "transform = torchvision.transforms.Compose(\n",
        "    [torchvision.transforms.ToTensor(),\n",
        "     torchvision.transforms.Normalize((0.5,0.5,0.5), (0.5,0.5,0.5))])\n",
        "\n",
        "testset = torchvision.datasets.CIFAR10(root='./data', train=False,download=True, transform=transform)\n",
        "trainvalset = torchvision.datasets.CIFAR10(root='./data', train=True,download=True, transform=transform)\n",
        "trainset, valset = torch.utils.data.random_split(trainvalset, [45000, 5000]) # 10% for validation\n",
        "small_testset, big_testset = torch.utils.data.random_split(testset, [5, 9995]) # 10 random images for image showing and prediction\n",
        "\n",
        "trainloader = torch.utils.data.DataLoader(trainset, batch_size=50, shuffle=True)\n",
        "testloader = torch.utils.data.DataLoader(testset, batch_size=1000, shuffle=False)\n",
        "valloader = torch.utils.data.DataLoader(valset, batch_size=1000, shuffle=False)\n",
        "small_testloader = torch.utils.data.DataLoader(small_testset, batch_size=5, shuffle=False)"
      ],
      "execution_count": 0,
      "outputs": [
        {
          "output_type": "stream",
          "text": [
            "Downloading https://www.cs.toronto.edu/~kriz/cifar-10-python.tar.gz to ./data/cifar-10-python.tar.gz\n",
            "Files already downloaded and verified\n"
          ],
          "name": "stdout"
        }
      ]
    },
    {
      "metadata": {
        "id": "8dz-2ChrPW36",
        "colab_type": "code",
        "colab": {}
      },
      "cell_type": "code",
      "source": [
        "# Default Model\n",
        "class CNNModel(nn.Module):\n",
        "  def __init__(self):\n",
        "      super(CNNModel, self).__init__()\n",
        "      # input is 2*32*32\n",
        "      # padding=2\n",
        "      self.conv1 = nn.Conv2d(3,96,6, padding = 4)\n",
        "      self.norm1 = nn.BatchNorm2d(96)\n",
        "      self.conv2 = nn.Conv2d(96,192,6, padding = 4)\n",
        "      self.norm2 = nn.BatchNorm2d(192)\n",
        "      self.fc1 = nn.Linear(192*10*10,2048)\n",
        "      self.fc2 = nn.Linear(2048,10)\n",
        "    \n",
        "  def forward(self, x):\n",
        "      x = F.max_pool2d(self.norm1(F.relu(self.conv1(x))),2)\n",
        "      x = F.max_pool2d(self.norm2(F.relu(self.conv2(x))),2)\n",
        "      x = x.view(-1, 192*10*10)\n",
        "      x = F.relu(self.fc1(x))\n",
        "      x = self.fc2(x)\n",
        "      return F.log_softmax(x,dim=0)"
      ],
      "execution_count": 0,
      "outputs": []
    },
    {
      "metadata": {
        "id": "dn-jSu_CdPmE",
        "colab_type": "code",
        "outputId": "8d3a1eab-0198-40db-f898-807536dd5a77",
        "colab": {
          "base_uri": "https://localhost:8080/",
          "height": 153
        }
      },
      "cell_type": "code",
      "source": [
        "model = CNNModel()\n",
        "print(model)\n",
        "\n",
        "optimizer = optim.SGD(model.parameters(), lr=0.01, momentum=0.9)"
      ],
      "execution_count": 0,
      "outputs": [
        {
          "output_type": "stream",
          "text": [
            "CNNModel(\n",
            "  (conv1): Conv2d(3, 96, kernel_size=(6, 6), stride=(1, 1), padding=(4, 4))\n",
            "  (norm1): BatchNorm2d(96, eps=1e-05, momentum=0.1, affine=True, track_running_stats=True)\n",
            "  (conv2): Conv2d(96, 192, kernel_size=(6, 6), stride=(1, 1), padding=(4, 4))\n",
            "  (norm2): BatchNorm2d(192, eps=1e-05, momentum=0.1, affine=True, track_running_stats=True)\n",
            "  (fc1): Linear(in_features=19200, out_features=2048, bias=True)\n",
            "  (fc2): Linear(in_features=2048, out_features=10, bias=True)\n",
            ")\n"
          ],
          "name": "stdout"
        }
      ]
    },
    {
      "metadata": {
        "id": "zqP-6iegqCW2",
        "colab_type": "code",
        "outputId": "2217882b-30ed-4a75-f2b4-2386b4884b76",
        "colab": {
          "base_uri": "https://localhost:8080/",
          "height": 255
        }
      },
      "cell_type": "code",
      "source": [
        "batch_size = 50\n",
        "model.cuda()\n",
        "model.train()\n",
        "train_loss, train_accu = [], []\n",
        "i = 0\n",
        "for epoch in range(15):\n",
        "    for images, labels in trainloader:\n",
        "        # send tensors to GPU\n",
        "        images, labels = images.cuda(), labels.cuda()\n",
        "        \n",
        "        optimizer.zero_grad()               \n",
        "        outputs = model(images)             \n",
        "        loss = F.nll_loss(outputs, labels)  \n",
        "        loss.backward()                     \n",
        "        train_loss.append(loss.item())\n",
        "        optimizer.step()                    \n",
        "        predictions = outputs.data.max(1)[1]  \n",
        "        accuracy = np.sum(predictions.cpu().numpy()==labels.cpu().numpy())/batch_size*100\n",
        "        train_accu.append(accuracy)\n",
        "        if i % 1000 == 0:\n",
        "            print('Train Step: {}\\tLoss: {:.3f}\\tAccuracy: {:.3f}'.format(i, loss.item(), accuracy))\n",
        "        i += 1\n"
      ],
      "execution_count": 0,
      "outputs": [
        {
          "output_type": "stream",
          "text": [
            "Train Step: 0\tLoss: 3.931\tAccuracy: 6.000\n",
            "Train Step: 1000\tLoss: 2.571\tAccuracy: 70.000\n",
            "Train Step: 2000\tLoss: 2.161\tAccuracy: 90.000\n",
            "Train Step: 3000\tLoss: 2.135\tAccuracy: 82.000\n",
            "Train Step: 4000\tLoss: 1.996\tAccuracy: 96.000\n",
            "Train Step: 5000\tLoss: 1.936\tAccuracy: 98.000\n",
            "Train Step: 6000\tLoss: 2.046\tAccuracy: 90.000\n",
            "Train Step: 7000\tLoss: 1.911\tAccuracy: 98.000\n",
            "Train Step: 8000\tLoss: 1.843\tAccuracy: 98.000\n",
            "Train Step: 9000\tLoss: 1.981\tAccuracy: 92.000\n",
            "Train Step: 10000\tLoss: 1.829\tAccuracy: 98.000\n",
            "Train Step: 11000\tLoss: 1.806\tAccuracy: 98.000\n",
            "Train Step: 12000\tLoss: 1.714\tAccuracy: 100.000\n",
            "Train Step: 13000\tLoss: 1.799\tAccuracy: 100.000\n"
          ],
          "name": "stdout"
        }
      ]
    },
    {
      "metadata": {
        "id": "ULLPVTXy2yp1",
        "colab_type": "code",
        "outputId": "0b4d8694-9610-4ea0-a77f-997f44424b87",
        "colab": {
          "base_uri": "https://localhost:8080/",
          "height": 34
        }
      },
      "cell_type": "code",
      "source": [
        "# Prediction on Validation Set\n",
        "model.eval()\n",
        "correct = 0\n",
        "for images, labels in valloader:\n",
        "    with torch.no_grad(): # so that computation graph history is not stored\n",
        "        images, labels = images.cuda(), labels.cuda() # send tensors to GPU\n",
        "        outputs = model(images)\n",
        "        predictions = outputs.data.max(1)[1]\n",
        "        correct += predictions.eq(labels.data).sum()\n",
        "        \n",
        "print('Validation set accuracy: {:.2f}%'.format(100.0 * correct / len(valloader.dataset)))"
      ],
      "execution_count": 0,
      "outputs": [
        {
          "output_type": "stream",
          "text": [
            "Validation set accuracy: 79.00%\n"
          ],
          "name": "stdout"
        }
      ]
    },
    {
      "metadata": {
        "id": "sddSm17_WT9J",
        "colab_type": "code",
        "colab": {}
      },
      "cell_type": "code",
      "source": [
        "# Modified Version 1. Add one more convolution layer. Add drop out. Change the activation function\n",
        "class ModelV1(nn.Module):\n",
        "  def __init__(self):\n",
        "      super(ModelV1, self).__init__()\n",
        "      # input is 2*32*32\n",
        "      # padding=2\n",
        "      self.conv1 = nn.Conv2d(3,96,6, padding = 4)\n",
        "      self.norm1 = nn.BatchNorm2d(96)\n",
        "      self.conv2 = nn.Conv2d(96,192,6, padding = 4)\n",
        "      self.norm2 = nn.BatchNorm2d(192)\n",
        "      self.conv3 = nn.Conv2d(192,384,6, padding = 4)\n",
        "      self.norm3 = nn.BatchNorm2d(384)\n",
        "      self.fc1 = nn.Linear(384*6*6,2048)\n",
        "      self.fc2 = nn.Linear(2048,10)\n",
        "    \n",
        "  def forward(self, x):\n",
        "      x = F.max_pool2d(self.norm1(F.relu(self.conv1(x))),2)\n",
        "      x = F.max_pool2d(self.norm2(torch.sigmoid(self.conv2(x))),2)\n",
        "      x = F.max_pool2d(self.norm3(F.hardtanh(self.conv3(x))),2)\n",
        "      x = x.view(-1, 384*6*6)\n",
        "      x = F.relu(self.fc1(x))\n",
        "      x = F.dropout(x, training=self.training) # default p=0.5\n",
        "      x = self.fc2(x)\n",
        "      return F.log_softmax(x,dim=0)"
      ],
      "execution_count": 0,
      "outputs": []
    },
    {
      "metadata": {
        "id": "XBLPiUQ7XXk-",
        "colab_type": "code",
        "outputId": "2957dfd7-c4da-4ff4-ad13-6dd49372a6a9",
        "colab": {
          "base_uri": "https://localhost:8080/",
          "height": 187
        }
      },
      "cell_type": "code",
      "source": [
        "model1 = ModelV1()\n",
        "print(model1)\n",
        "\n",
        "optimizer = optim.SGD(model1.parameters(), lr=0.01, momentum=0.9)"
      ],
      "execution_count": 0,
      "outputs": [
        {
          "output_type": "stream",
          "text": [
            "ModelV1(\n",
            "  (conv1): Conv2d(3, 96, kernel_size=(6, 6), stride=(1, 1), padding=(4, 4))\n",
            "  (norm1): BatchNorm2d(96, eps=1e-05, momentum=0.1, affine=True, track_running_stats=True)\n",
            "  (conv2): Conv2d(96, 192, kernel_size=(6, 6), stride=(1, 1), padding=(4, 4))\n",
            "  (norm2): BatchNorm2d(192, eps=1e-05, momentum=0.1, affine=True, track_running_stats=True)\n",
            "  (conv3): Conv2d(192, 384, kernel_size=(6, 6), stride=(1, 1), padding=(4, 4))\n",
            "  (norm3): BatchNorm2d(384, eps=1e-05, momentum=0.1, affine=True, track_running_stats=True)\n",
            "  (fc1): Linear(in_features=13824, out_features=2048, bias=True)\n",
            "  (fc2): Linear(in_features=2048, out_features=10, bias=True)\n",
            ")\n"
          ],
          "name": "stdout"
        }
      ]
    },
    {
      "metadata": {
        "id": "5UnUsBjWXcIi",
        "colab_type": "code",
        "outputId": "1b34c258-0621-4639-bb6c-5ff5ed7b1f2f",
        "colab": {
          "base_uri": "https://localhost:8080/",
          "height": 255
        }
      },
      "cell_type": "code",
      "source": [
        "batch_size = 50\n",
        "model1.cuda()\n",
        "model1.train()\n",
        "train_loss, train_accu = [], []\n",
        "i = 0\n",
        "for epoch in range(15):\n",
        "    for images, labels in trainloader:\n",
        "        # send tensors to GPU\n",
        "        images, labels = images.cuda(), labels.cuda()\n",
        "        \n",
        "        optimizer.zero_grad()               # zero the parameter gradients\n",
        "        outputs = model1(images)             # calls the forward function of model, i.e. model.forward(images)\n",
        "        loss = F.nll_loss(outputs, labels)  # calculate loss\n",
        "        loss.backward()                     # calculate gradients\n",
        "        train_loss.append(loss.item())\n",
        "        optimizer.step()                    # update learnable parameters\n",
        "        predictions = outputs.data.max(1)[1]# column at idx 1 has actual prob.  \n",
        "        \n",
        "        # send tensors back to CPU because numpy ops don't support GPU.\n",
        "        accuracy = np.sum(predictions.cpu().numpy()==labels.cpu().numpy())/batch_size*100\n",
        "        train_accu.append(accuracy)\n",
        "        if i % 1000 == 0:\n",
        "            print('Train Step: {}\\tLoss: {:.3f}\\tAccuracy: {:.3f}'.format(i, loss.item(), accuracy))\n",
        "        i += 1"
      ],
      "execution_count": 0,
      "outputs": [
        {
          "output_type": "stream",
          "text": [
            "Train Step: 0\tLoss: 3.980\tAccuracy: 8.000\n",
            "Train Step: 1000\tLoss: 3.030\tAccuracy: 52.000\n",
            "Train Step: 2000\tLoss: 2.718\tAccuracy: 70.000\n",
            "Train Step: 3000\tLoss: 2.379\tAccuracy: 80.000\n",
            "Train Step: 4000\tLoss: 2.281\tAccuracy: 78.000\n",
            "Train Step: 5000\tLoss: 2.113\tAccuracy: 86.000\n",
            "Train Step: 6000\tLoss: 2.182\tAccuracy: 86.000\n",
            "Train Step: 7000\tLoss: 2.141\tAccuracy: 84.000\n",
            "Train Step: 8000\tLoss: 2.210\tAccuracy: 76.000\n",
            "Train Step: 9000\tLoss: 1.930\tAccuracy: 90.000\n",
            "Train Step: 10000\tLoss: 1.839\tAccuracy: 100.000\n",
            "Train Step: 11000\tLoss: 1.858\tAccuracy: 100.000\n",
            "Train Step: 12000\tLoss: 1.844\tAccuracy: 100.000\n",
            "Train Step: 13000\tLoss: 1.733\tAccuracy: 100.000\n"
          ],
          "name": "stdout"
        }
      ]
    },
    {
      "metadata": {
        "id": "YlhPCr87Xk1E",
        "colab_type": "code",
        "outputId": "3c7e6b06-bb22-4985-9b5a-203696ef9b0f",
        "colab": {
          "base_uri": "https://localhost:8080/",
          "height": 34
        }
      },
      "cell_type": "code",
      "source": [
        "model1.eval()\n",
        "correct = 0\n",
        "i = 0\n",
        "for images, labels in valloader:\n",
        "    with torch.no_grad(): # so that computation graph history is not stored\n",
        "        images, labels = images.cuda(), labels.cuda() # send tensors to GPU\n",
        "        outputs = model1(images)\n",
        "        predictions = outputs.data.max(1)[1]\n",
        "        correct += predictions.eq(labels.data).sum()\n",
        "        \n",
        "print('Validation set accuracy: {:.2f}%'.format(100.0 * correct / len(valloader.dataset)))"
      ],
      "execution_count": 0,
      "outputs": [
        {
          "output_type": "stream",
          "text": [
            "Validation set accuracy: 80.00%\n"
          ],
          "name": "stdout"
        }
      ]
    },
    {
      "metadata": {
        "id": "xUr0l0Ywc0vr",
        "colab_type": "code",
        "outputId": "d9ba9874-bdb3-45a7-b327-68c0f5f99cf4",
        "colab": {
          "base_uri": "https://localhost:8080/",
          "height": 187
        }
      },
      "cell_type": "code",
      "source": [
        "# Modified Version 2. Use a different optimizer: ASGD\n",
        "model2 = ModelV1()\n",
        "print(model2)\n",
        "\n",
        "optimizer2 = optim.ASGD(model2.parameters(), lr=0.01)"
      ],
      "execution_count": 0,
      "outputs": [
        {
          "output_type": "stream",
          "text": [
            "ModelV1(\n",
            "  (conv1): Conv2d(3, 96, kernel_size=(6, 6), stride=(1, 1), padding=(4, 4))\n",
            "  (norm1): BatchNorm2d(96, eps=1e-05, momentum=0.1, affine=True, track_running_stats=True)\n",
            "  (conv2): Conv2d(96, 192, kernel_size=(6, 6), stride=(1, 1), padding=(4, 4))\n",
            "  (norm2): BatchNorm2d(192, eps=1e-05, momentum=0.1, affine=True, track_running_stats=True)\n",
            "  (conv3): Conv2d(192, 384, kernel_size=(6, 6), stride=(1, 1), padding=(4, 4))\n",
            "  (norm3): BatchNorm2d(384, eps=1e-05, momentum=0.1, affine=True, track_running_stats=True)\n",
            "  (fc1): Linear(in_features=13824, out_features=2048, bias=True)\n",
            "  (fc2): Linear(in_features=2048, out_features=10, bias=True)\n",
            ")\n"
          ],
          "name": "stdout"
        }
      ]
    },
    {
      "metadata": {
        "id": "1cj77oiJnVFA",
        "colab_type": "code",
        "outputId": "3184ad95-8dae-4c50-c1cb-0e758181c3e9",
        "colab": {
          "base_uri": "https://localhost:8080/",
          "height": 255
        }
      },
      "cell_type": "code",
      "source": [
        "batch_size = 50\n",
        "model2.cuda()\n",
        "model2.train()\n",
        "train_loss, train_accu = [], []\n",
        "i = 0\n",
        "for epoch in range(15):\n",
        "    for images, labels in trainloader:\n",
        "        # send tensors to GPU\n",
        "        images, labels = images.cuda(), labels.cuda()\n",
        "        \n",
        "        optimizer2.zero_grad()               # zero the parameter gradients\n",
        "        outputs = model2(images)             # calls the forward function of model, i.e. model.forward(images)\n",
        "        loss = F.nll_loss(outputs, labels)  # calculate loss\n",
        "        loss.backward()                     # calculate gradients\n",
        "        train_loss.append(loss.item())\n",
        "        optimizer2.step()                    # update learnable parameters\n",
        "        predictions = outputs.data.max(1)[1]# column at idx 1 has actual prob.  \n",
        "        \n",
        "        # send tensors back to CPU because numpy ops don't support GPU.\n",
        "        accuracy = np.sum(predictions.cpu().numpy()==labels.cpu().numpy())/batch_size*100\n",
        "        train_accu.append(accuracy)\n",
        "        if i % 1000 == 0:\n",
        "            print('Train Step: {}\\tLoss: {:.3f}\\tAccuracy: {:.3f}'.format(i, loss.item(), accuracy))\n",
        "        i += 1"
      ],
      "execution_count": 0,
      "outputs": [
        {
          "output_type": "stream",
          "text": [
            "Train Step: 0\tLoss: 3.878\tAccuracy: 14.000\n",
            "Train Step: 1000\tLoss: 2.668\tAccuracy: 60.000\n",
            "Train Step: 2000\tLoss: 2.500\tAccuracy: 72.000\n",
            "Train Step: 3000\tLoss: 2.826\tAccuracy: 58.000\n",
            "Train Step: 4000\tLoss: 2.647\tAccuracy: 68.000\n",
            "Train Step: 5000\tLoss: 2.453\tAccuracy: 72.000\n",
            "Train Step: 6000\tLoss: 2.281\tAccuracy: 80.000\n",
            "Train Step: 7000\tLoss: 2.261\tAccuracy: 78.000\n",
            "Train Step: 8000\tLoss: 2.418\tAccuracy: 68.000\n",
            "Train Step: 9000\tLoss: 2.052\tAccuracy: 92.000\n",
            "Train Step: 10000\tLoss: 2.118\tAccuracy: 84.000\n",
            "Train Step: 11000\tLoss: 2.238\tAccuracy: 80.000\n",
            "Train Step: 12000\tLoss: 1.956\tAccuracy: 96.000\n",
            "Train Step: 13000\tLoss: 1.962\tAccuracy: 94.000\n"
          ],
          "name": "stdout"
        }
      ]
    },
    {
      "metadata": {
        "id": "prsCa58ClkIQ",
        "colab_type": "code",
        "outputId": "35b3fd33-e3b6-4087-e21f-31d542573416",
        "colab": {
          "base_uri": "https://localhost:8080/",
          "height": 34
        }
      },
      "cell_type": "code",
      "source": [
        "model2.eval()\n",
        "correct = 0\n",
        "i = 0\n",
        "for images, labels in valloader:\n",
        "    with torch.no_grad(): # so that computation graph history is not stored\n",
        "        images, labels = images.cuda(), labels.cuda() # send tensors to GPU\n",
        "        outputs = model2(images)\n",
        "        predictions = outputs.data.max(1)[1]\n",
        "        correct += predictions.eq(labels.data).sum()\n",
        "        i += 1\n",
        "        \n",
        "print('Validation set accuracy: {:.2f}%'.format(100.0 * correct / len(valloader.dataset)))"
      ],
      "execution_count": 0,
      "outputs": [
        {
          "output_type": "stream",
          "text": [
            "Validation set accuracy: 78.00%\n"
          ],
          "name": "stdout"
        }
      ]
    },
    {
      "metadata": {
        "id": "DpWguMzOVxMx",
        "colab_type": "code",
        "colab": {}
      },
      "cell_type": "code",
      "source": [
        "# Sample from test set. Print image and predict.\n",
        "import matplotlib.pyplot as plt\n",
        "real_labels = [\"plane\", \"car\", \"bird\", \"cat\", \"deer\", \"dog\", \"frog\", \"horse\", \"ship\", \"truck\"]\n",
        "def imshow(img):\n",
        "    img = img / 2 + 0.5 # unnormalize\n",
        "    npimg = img.numpy()\n",
        "    plt.imshow(np.transpose(npimg, (1, 2, 0)))\n",
        "\n",
        "predictions = []\n",
        "predictions1 = []\n",
        "predictions2 = []\n",
        "for images, labels in small_testloader:\n",
        "    with torch.no_grad():\n",
        "        images = images.cuda()\n",
        "        outputs = model(images)\n",
        "        predictions = outputs.data.max(1)[1]\n",
        "        outputs1 = model1(images)\n",
        "        predictions1 = outputs1.data.max(1)[1]\n",
        "        outputs2 = model2(images)\n",
        "        predictions2 = outputs2.data.max(1)[1]"
      ],
      "execution_count": 0,
      "outputs": []
    },
    {
      "metadata": {
        "id": "DuQUWDcgl9wU",
        "colab_type": "code",
        "outputId": "15fe021c-95c7-46b0-c564-86ac77cb99f0",
        "colab": {
          "base_uri": "https://localhost:8080/",
          "height": 398
        }
      },
      "cell_type": "code",
      "source": [
        "imshow(small_testset[0][0]) # displays test image number 0\n",
        "print(\"Default Model Predicted Label: \", real_labels[predictions[0].item()])\n",
        "print(\"Model1 Predicted Label: \", real_labels[predictions1[0].item()])\n",
        "print(\"Model2 Predicted Label: \", real_labels[predictions2[0].item()])"
      ],
      "execution_count": 0,
      "outputs": [
        {
          "output_type": "stream",
          "text": [
            "Default Model Predicted Label:  frog\n",
            "Model1 Predicted Label:  frog\n",
            "Model2 Predicted Label:  frog\n"
          ],
          "name": "stdout"
        },
        {
          "output_type": "display_data",
          "data": {
            "image/png": "[encoded data removed]",
            "text/plain": [
              "<Figure size 576x396 with 1 Axes>"
            ]
          },
          "metadata": {
            "tags": []
          }
        }
      ]
    },
    {
      "metadata": {
        "id": "BotIRWfud60v",
        "colab_type": "code",
        "outputId": "ddf1431f-e6fc-47eb-9ad9-17bffe5c64bd",
        "colab": {
          "base_uri": "https://localhost:8080/",
          "height": 398
        }
      },
      "cell_type": "code",
      "source": [
        "imshow(small_testset[1][0]) # displays test image number 0\n",
        "print(\"Default Model Predicted Label: \", real_labels[predictions[1].item()])\n",
        "print(\"Model1 Predicted Label: \", real_labels[predictions1[1].item()])\n",
        "print(\"Model2 Predicted Label: \", real_labels[predictions2[1].item()])"
      ],
      "execution_count": 0,
      "outputs": [
        {
          "output_type": "stream",
          "text": [
            "Default Model Predicted Label:  bird\n",
            "Model1 Predicted Label:  bird\n",
            "Model2 Predicted Label:  bird\n"
          ],
          "name": "stdout"
        },
        {
          "output_type": "display_data",
          "data": {
            "image/png": "[encoded data removed]",
            "text/plain": [
              "<Figure size 576x396 with 1 Axes>"
            ]
          },
          "metadata": {
            "tags": []
          }
        }
      ]
    },
    {
      "metadata": {
        "id": "1P6vsKffmU0q",
        "colab_type": "code",
        "outputId": "579d69a3-dee8-40f5-fd34-94f931b02642",
        "colab": {
          "base_uri": "https://localhost:8080/",
          "height": 398
        }
      },
      "cell_type": "code",
      "source": [
        "imshow(small_testset[2][0]) # displays test image number 0\n",
        "print(\"Default Model Predicted Label: \", real_labels[predictions[2].item()])\n",
        "print(\"Model1 Predicted Label: \", real_labels[predictions1[2].item()])\n",
        "print(\"Model2 Predicted Label: \", real_labels[predictions2[2].item()])"
      ],
      "execution_count": 0,
      "outputs": [
        {
          "output_type": "stream",
          "text": [
            "Default Model Predicted Label:  deer\n",
            "Model1 Predicted Label:  deer\n",
            "Model2 Predicted Label:  deer\n"
          ],
          "name": "stdout"
        },
        {
          "output_type": "display_data",
          "data": {
            "image/png": "[encoded data removed]",
            "text/plain": [
              "<Figure size 576x396 with 1 Axes>"
            ]
          },
          "metadata": {
            "tags": []
          }
        }
      ]
    },
    {
      "metadata": {
        "id": "h3b2ESLtmbKq",
        "colab_type": "code",
        "outputId": "e5abbd6a-367d-486d-d68b-791108c2e60b",
        "colab": {
          "base_uri": "https://localhost:8080/",
          "height": 398
        }
      },
      "cell_type": "code",
      "source": [
        "imshow(small_testset[3][0]) # displays test image number 0\n",
        "print(\"Default Model Predicted Label: \", real_labels[predictions[3].item()])\n",
        "print(\"Model1 Predicted Label: \", real_labels[predictions1[3].item()])\n",
        "print(\"Model2 Predicted Label: \", real_labels[predictions2[3].item()])"
      ],
      "execution_count": 0,
      "outputs": [
        {
          "output_type": "stream",
          "text": [
            "Default Model Predicted Label:  ship\n",
            "Model1 Predicted Label:  ship\n",
            "Model2 Predicted Label:  car\n"
          ],
          "name": "stdout"
        },
        {
          "output_type": "display_data",
          "data": {
            "image/png": "[encoded data removed]",
            "text/plain": [
              "<Figure size 576x396 with 1 Axes>"
            ]
          },
          "metadata": {
            "tags": []
          }
        }
      ]
    },
    {
      "metadata": {
        "id": "Sv_QaBjCmetD",
        "colab_type": "code",
        "outputId": "fc67a1ee-1534-4fd6-b640-b84d62cf0af9",
        "colab": {
          "base_uri": "https://localhost:8080/",
          "height": 398
        }
      },
      "cell_type": "code",
      "source": [
        "imshow(small_testset[4][0]) # displays test image number 0\n",
        "print(\"Default Model Predicted Label: \", real_labels[predictions[4].item()])\n",
        "print(\"Model1 Predicted Label: \", real_labels[predictions1[4].item()])\n",
        "print(\"Model2 Predicted Label: \", real_labels[predictions2[4].item()])"
      ],
      "execution_count": 0,
      "outputs": [
        {
          "output_type": "stream",
          "text": [
            "Default Model Predicted Label:  truck\n",
            "Model1 Predicted Label:  dog\n",
            "Model2 Predicted Label:  dog\n"
          ],
          "name": "stdout"
        },
        {
          "output_type": "display_data",
          "data": {
            "image/png": "[encoded data removed]",
            "text/plain": [
              "<Figure size 576x396 with 1 Axes>"
            ]
          },
          "metadata": {
            "tags": []
          }
        }
      ]
    }
  ]
}